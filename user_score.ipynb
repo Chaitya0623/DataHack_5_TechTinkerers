{
  "cells": [
    {
      "cell_type": "code",
      "source": [
        "!pip install pypdf2==2.9.0\n",
        "!pip install transformers"
      ],
      "metadata": {
        "colab": {
          "base_uri": "https://localhost:8080/"
        },
        "id": "uTAwV5DTyeiC",
        "outputId": "f619e48a-e93d-44b0-b9b8-95cdea80e35c"
      },
      "execution_count": 1,
      "outputs": [
        {
          "output_type": "stream",
          "name": "stdout",
          "text": [
            "Requirement already satisfied: pypdf2==2.9.0 in /usr/local/lib/python3.10/dist-packages (2.9.0)\n",
            "Requirement already satisfied: transformers in /usr/local/lib/python3.10/dist-packages (4.34.1)\n",
            "Requirement already satisfied: filelock in /usr/local/lib/python3.10/dist-packages (from transformers) (3.12.4)\n",
            "Requirement already satisfied: huggingface-hub<1.0,>=0.16.4 in /usr/local/lib/python3.10/dist-packages (from transformers) (0.17.3)\n",
            "Requirement already satisfied: numpy>=1.17 in /usr/local/lib/python3.10/dist-packages (from transformers) (1.23.5)\n",
            "Requirement already satisfied: packaging>=20.0 in /usr/local/lib/python3.10/dist-packages (from transformers) (23.2)\n",
            "Requirement already satisfied: pyyaml>=5.1 in /usr/local/lib/python3.10/dist-packages (from transformers) (6.0.1)\n",
            "Requirement already satisfied: regex!=2019.12.17 in /usr/local/lib/python3.10/dist-packages (from transformers) (2023.6.3)\n",
            "Requirement already satisfied: requests in /usr/local/lib/python3.10/dist-packages (from transformers) (2.31.0)\n",
            "Requirement already satisfied: tokenizers<0.15,>=0.14 in /usr/local/lib/python3.10/dist-packages (from transformers) (0.14.1)\n",
            "Requirement already satisfied: safetensors>=0.3.1 in /usr/local/lib/python3.10/dist-packages (from transformers) (0.4.0)\n",
            "Requirement already satisfied: tqdm>=4.27 in /usr/local/lib/python3.10/dist-packages (from transformers) (4.66.1)\n",
            "Requirement already satisfied: fsspec in /usr/local/lib/python3.10/dist-packages (from huggingface-hub<1.0,>=0.16.4->transformers) (2023.6.0)\n",
            "Requirement already satisfied: typing-extensions>=3.7.4.3 in /usr/local/lib/python3.10/dist-packages (from huggingface-hub<1.0,>=0.16.4->transformers) (4.5.0)\n",
            "Requirement already satisfied: charset-normalizer<4,>=2 in /usr/local/lib/python3.10/dist-packages (from requests->transformers) (3.3.1)\n",
            "Requirement already satisfied: idna<4,>=2.5 in /usr/local/lib/python3.10/dist-packages (from requests->transformers) (3.4)\n",
            "Requirement already satisfied: urllib3<3,>=1.21.1 in /usr/local/lib/python3.10/dist-packages (from requests->transformers) (2.0.7)\n",
            "Requirement already satisfied: certifi>=2017.4.17 in /usr/local/lib/python3.10/dist-packages (from requests->transformers) (2023.7.22)\n"
          ]
        }
      ]
    },
    {
      "cell_type": "code",
      "execution_count": 2,
      "metadata": {
        "id": "d3O_H0KfyPWa",
        "colab": {
          "base_uri": "https://localhost:8080/",
          "height": 123
        },
        "outputId": "32b9cbc2-af8a-448c-a7ec-bd2b0f39a8db"
      },
      "outputs": [
        {
          "output_type": "execute_result",
          "data": {
            "text/plain": [
              "'Chaitya Shah /githubChaitya0623 /linkedinChaitya Shah /glbechaityashahnetlifyapp /envelpechaitya0623gmailcom obile91 70456 31629 EDUCATION Dwarkadas J Sanghvi College of Engineering: BTech in Computer Engineering CGPA: 889/10 Dec 2021 - Present Kishinchand Chellaram College: 12th HSC 955 Jun 2019 - Aug 2021 Gopi Birla Memorial School: 10th CBSE 938 Apr 2014 - Mar 2019 SKILLS Programming : C C Python HTML CSS TailwindCSS JavaScript Threejs React Django-Rest MySQL R LaTex Technologies : Git Github Robot Operating Systems AWS FastAPI Docker Terraforms Google Cloud Looker Studio Arduino ML Tools : Numpy Pandas Seaborn Matplotlib Scikit-Learn Keras Tensorflow OpenCV NLP LLMs Langchains Haystacks EXPERIENCE Research Intern Indian Institute of Technology Patna May 2023 - Present Research Paper : Writing a Research Paper on Fraud Detection in Ethereum transactions using Graph Neural Networks Random Walk : Implemented Directed Random Walk algorithm to traverse through nodes using the networkx library Feature Engineering : Performed Data Analysis and Feature Engineering for every traversed node in the graph Temporal Graphs : Created a Temporal Graph Attention Layer giving us relevant performance metrics based on the timestamps Model Performance : Training the model on a larger recent dataset resulting in substantial reduction in false positives Research Engineer SimPPL New York Sep 2023 - Present Workshop Paper : Working on Machine Learning models to reduce fake information and promote trust on social internet Data Extraction : Wrote the code to extract posts from the Truth Social App that redirected to Wikepedia Bluesky and Youtube URLs Content Sharing : Working on NLP models to highlight how the sharing of content on the App has progressed over time Technologies : Storing the relevant data on Google Cloud and Data visualizations were made using Google Looker Studio Artificial Intelligence Intern /external-link-alt Infiheal Jun 2023 - Sep 2023 Technologies : Worked on a Mental Health Chatbot trained on Web Scraped Data Prompt Engineering tested using FastAPI Models : Models were made using Large Language Models LLMs LangChains Haystacks HuggingFace Transformer models Deployment : Deployed models on Amazon Web Services AWS via Linux using Terraforms Docker CloudWatch ECR and ECS Mentorship : Led a team of 8 newer interns mentored and provided guidance to them about the used Chatbot Technologies Performance Enhancement : Attained a 4 accuracy boost by fine-tuning the algorithms also cutting response time by 1-2 seconds PUBLICATIONS Sentence Restructuring with User-Controlled Difficulty using NLP /external-link-alt: A custom synonyms dataset was curated using Google Ngrams Viewer word counts replacing words in the given sentence while preserving context through the Lesk Algorithm The sentence complexity was then adjusted by adding or reducing words and finally Sentence Transformers were used to reframe the sentence while maintaining contextual similarity This paper was presented at the 14th International Conference on Computing Communication and Networking Technologies ICCCNT 2023 IIT Delhi to be published inIEEE Digital Library Xplore MedLedger - An ML Model for Disease Outbreak Prediction : Currently working on a Research Paper that employs classification algorithms to predict localized disease outbreaks at the clinic level considering factors such as locality seasons and age PROJECTS StockSage /external-link-alt: Developed an interactive Full-Stack Web application using React and Django enabling users to manage their transactions for CAC40 stocks The application employs LSTM for stock price predictions and recommends new stocks based on user holdings through Association Rules and the Apriori algorithm Additionally theres a feature for assessing the Credibility of Financial Tips Data is initially scraped from Reddit subjected to Topic Modeling and if it significantly leans towards either a stock going up or down the tip is deemed reliable However if it lacks a clear bias predictions cannot be made and the tips validity is uncertain TubeBoost /external-link-alt: Engineered an ML framework aimed at YouTube optimization focusing on identifying the optimal upload schedule for channels and forecasting the top 10 emerging content creators Additionally we undertook the classification of video quality into distinct categories and determined the optimal video duration and deployed the application on Streamlit AVATAR - Aerial Vehicle for Advance Terrain Analysis and Reconnaissance : Engaged in developing a multi-functional drone capable of Alarm Generation and Payload Delivery It employs YOLO Models and Thermal Imaging for distant human detection while autonomous navigation is facilitated by GPS Tracking In cases where humans cannot be detected visually Acoustic ML will be used It also supports voice commands implemented by topic modelling of speeach to text NLP ModelsIntegration is achieved through ROS complemented by GUI visualizations This versatile drone serves purposes in both military and civilian operations and has helped us earn a place as a finalist in the Smart India Hackathon 2023 Short-a-Thon /external-link-alt: An interactive platform meticulously tailored for hosting and participating in hackathons providing users with the flexibility to either initiate or join these dynamic events The platform harnesses a sophisticated machine learning model specifically in the field of NLP coupled with host-specified parameters to seamlessly streamline the process of team shortlisting for hackathons enhancing the overall experience for participants and organizers alike VerifyU /external-link-alt: Fulfilled the role of a Full Stack Developer React Django for a Document Verification website while also taking a proactive role in implementing a robust ML model combining CNN OCR and Encryption through QR codes to improve document authenticity validation Effectively contributed to the end-to-end deployment process ensuring a secure user experience Internship Portal /external-link-alt: Developed a comprehensive Internship Portal as a Full Stack Django Developer at DJ Unicode centering on facilitating seamless interaction between students and professors for internships and research opportunities The project encompassed Figma for design React for frontend and Django for backend with deployment on Netlify and PythonAnywhere EXTRACURRICULAR ACTIVITIES Coding Team Member DJS Antariksh Official Martian Rover Team May 2022 - Present Robot Operating System : Worked on Rover Integration using Arduino ROS on Ubuntu Linux worked with Gazebo Rviz Graphical User Interface : Integrated a React website with ROS aiding in camera visualizations displaying data and Rover Control Autonomous Movement : Worked on Autonomous functioning of the Rover the Robotic Arm with AI ROS and OpenCV International Competitions : 3rd in International Rover Design Challenge 2022 8th in International Rover Challenge 2023 Onsite Machine Learning Head Synapse AI/ML Committee Sept 2022 - Present Mentorship : Designed and conducting training sessions on ML concepts CV techniques and NLP algorithms for mentees Guidance : Assisting them with personalized guidance and mentoring for their Research Papers spanning various ML technologies Contribution : Helped organizing events had speaker sessions delivered seminars contacted sponsors and wrote Research Papers ML Models : During my time as a mentee I acquired proficiency in a wide range of machine learning techniques including classification regression clustering natural language processing NLP and deployment models ACHIEVEMENTS 2nd in European Rover Challenge 2023 Remote : Was one of the operators for the Navigation Task scored full experimented with Autonomous movements of the Robotic Arm for the Maintenance Task using ROS Arduino MoveIt OMPL Docker and OpenCV practiced on simulation using RViz and Gazebo and was a part of the Presentation Task and Final QnA Winner of X-tract 2022 /external-link-alt: An Inter-College Datathon where we comprehended and applied significant Machine Learning Algorithms to 7 distinct Data Science datasets in a limited Timeframe of 4 hours while competing with 200 shortlisted students to win the Event CERTIFICATIONS Machine Learning with Python with Honors /external-link-alt: Coursera Issued Apr 2023 Introduction to Cloud Computing /external-link-alt: Coursera Issued Oct 2022 2022 Complete Bootcamp from Zero to Hero in Python /external-link-alt: Udemy Issued Aug 2022 Google Analytics for Beginners /external-link-alt: Google Analytics Issued Jul 2022 The Fundamentals of Digital Marketing /external-link-alt: Google Digital Garage Issued Dec 2021'"
            ],
            "application/vnd.google.colaboratory.intrinsic+json": {
              "type": "string"
            }
          },
          "metadata": {},
          "execution_count": 2
        }
      ],
      "source": [
        "import PyPDF2\n",
        "import re\n",
        "\n",
        "# Open the PDF file in read-binary ('rb') mode\n",
        "with open('./Chaitya_CV.pdf', 'rb') as pdf_file:\n",
        "    # Create a PDF object\n",
        "    pdf = PyPDF2.PdfFileReader(pdf_file)\n",
        "\n",
        "    # Initialize an empty string to store the text\n",
        "    pdf_text = \"\"\n",
        "\n",
        "    # Loop through each page and extract text\n",
        "    for page_num in range(pdf.numPages):\n",
        "        page = pdf.getPage(page_num)\n",
        "        page_text = page.extractText()\n",
        "        pdf_text += page_text\n",
        "\n",
        "# Close the PDF file\n",
        "pdf_file.close()\n",
        "\n",
        "# Remove special characters and extra spaces\n",
        "cleaned_text = re.sub(r'[^\\w\\s/:-]', '', pdf_text)\n",
        "\n",
        "# Replace multiple spaces and line breaks with a single space\n",
        "cleaned_text = re.sub(r'\\s+', ' ', cleaned_text)\n",
        "\n",
        "# Strip leading and trailing spaces\n",
        "cleaned_text = cleaned_text.strip()\n",
        "cleaned_text"
      ]
    },
    {
      "cell_type": "code",
      "source": [
        "!pip install tensorflow==2.14"
      ],
      "metadata": {
        "colab": {
          "base_uri": "https://localhost:8080/"
        },
        "id": "fiPxaWgX0dwv",
        "outputId": "dd66a5b9-8c27-472d-cad2-276f29ea7c01"
      },
      "execution_count": 3,
      "outputs": [
        {
          "output_type": "stream",
          "name": "stdout",
          "text": [
            "Requirement already satisfied: tensorflow==2.14 in /usr/local/lib/python3.10/dist-packages (2.14.0)\n",
            "Requirement already satisfied: absl-py>=1.0.0 in /usr/local/lib/python3.10/dist-packages (from tensorflow==2.14) (1.4.0)\n",
            "Requirement already satisfied: astunparse>=1.6.0 in /usr/local/lib/python3.10/dist-packages (from tensorflow==2.14) (1.6.3)\n",
            "Requirement already satisfied: flatbuffers>=23.5.26 in /usr/local/lib/python3.10/dist-packages (from tensorflow==2.14) (23.5.26)\n",
            "Requirement already satisfied: gast!=0.5.0,!=0.5.1,!=0.5.2,>=0.2.1 in /usr/local/lib/python3.10/dist-packages (from tensorflow==2.14) (0.4.0)\n",
            "Requirement already satisfied: google-pasta>=0.1.1 in /usr/local/lib/python3.10/dist-packages (from tensorflow==2.14) (0.2.0)\n",
            "Requirement already satisfied: h5py>=2.9.0 in /usr/local/lib/python3.10/dist-packages (from tensorflow==2.14) (3.9.0)\n",
            "Requirement already satisfied: libclang>=13.0.0 in /usr/local/lib/python3.10/dist-packages (from tensorflow==2.14) (16.0.6)\n",
            "Requirement already satisfied: ml-dtypes==0.2.0 in /usr/local/lib/python3.10/dist-packages (from tensorflow==2.14) (0.2.0)\n",
            "Requirement already satisfied: numpy>=1.23.5 in /usr/local/lib/python3.10/dist-packages (from tensorflow==2.14) (1.23.5)\n",
            "Requirement already satisfied: opt-einsum>=2.3.2 in /usr/local/lib/python3.10/dist-packages (from tensorflow==2.14) (3.3.0)\n",
            "Requirement already satisfied: packaging in /usr/local/lib/python3.10/dist-packages (from tensorflow==2.14) (23.2)\n",
            "Requirement already satisfied: protobuf!=4.21.0,!=4.21.1,!=4.21.2,!=4.21.3,!=4.21.4,!=4.21.5,<5.0.0dev,>=3.20.3 in /usr/local/lib/python3.10/dist-packages (from tensorflow==2.14) (3.20.3)\n",
            "Requirement already satisfied: setuptools in /usr/local/lib/python3.10/dist-packages (from tensorflow==2.14) (67.7.2)\n",
            "Requirement already satisfied: six>=1.12.0 in /usr/local/lib/python3.10/dist-packages (from tensorflow==2.14) (1.16.0)\n",
            "Requirement already satisfied: termcolor>=1.1.0 in /usr/local/lib/python3.10/dist-packages (from tensorflow==2.14) (2.3.0)\n",
            "Requirement already satisfied: typing-extensions>=3.6.6 in /usr/local/lib/python3.10/dist-packages (from tensorflow==2.14) (4.5.0)\n",
            "Requirement already satisfied: wrapt<1.15,>=1.11.0 in /usr/local/lib/python3.10/dist-packages (from tensorflow==2.14) (1.14.1)\n",
            "Requirement already satisfied: tensorflow-io-gcs-filesystem>=0.23.1 in /usr/local/lib/python3.10/dist-packages (from tensorflow==2.14) (0.34.0)\n",
            "Requirement already satisfied: grpcio<2.0,>=1.24.3 in /usr/local/lib/python3.10/dist-packages (from tensorflow==2.14) (1.59.0)\n",
            "Requirement already satisfied: tensorboard<2.15,>=2.14 in /usr/local/lib/python3.10/dist-packages (from tensorflow==2.14) (2.14.1)\n",
            "Requirement already satisfied: tensorflow-estimator<2.15,>=2.14.0 in /usr/local/lib/python3.10/dist-packages (from tensorflow==2.14) (2.14.0)\n",
            "Requirement already satisfied: keras<2.15,>=2.14.0 in /usr/local/lib/python3.10/dist-packages (from tensorflow==2.14) (2.14.0)\n",
            "Requirement already satisfied: wheel<1.0,>=0.23.0 in /usr/local/lib/python3.10/dist-packages (from astunparse>=1.6.0->tensorflow==2.14) (0.41.2)\n",
            "Requirement already satisfied: google-auth<3,>=1.6.3 in /usr/local/lib/python3.10/dist-packages (from tensorboard<2.15,>=2.14->tensorflow==2.14) (2.17.3)\n",
            "Requirement already satisfied: google-auth-oauthlib<1.1,>=0.5 in /usr/local/lib/python3.10/dist-packages (from tensorboard<2.15,>=2.14->tensorflow==2.14) (1.0.0)\n",
            "Requirement already satisfied: markdown>=2.6.8 in /usr/local/lib/python3.10/dist-packages (from tensorboard<2.15,>=2.14->tensorflow==2.14) (3.5)\n",
            "Requirement already satisfied: requests<3,>=2.21.0 in /usr/local/lib/python3.10/dist-packages (from tensorboard<2.15,>=2.14->tensorflow==2.14) (2.31.0)\n",
            "Requirement already satisfied: tensorboard-data-server<0.8.0,>=0.7.0 in /usr/local/lib/python3.10/dist-packages (from tensorboard<2.15,>=2.14->tensorflow==2.14) (0.7.2)\n",
            "Requirement already satisfied: werkzeug>=1.0.1 in /usr/local/lib/python3.10/dist-packages (from tensorboard<2.15,>=2.14->tensorflow==2.14) (3.0.1)\n",
            "Requirement already satisfied: cachetools<6.0,>=2.0.0 in /usr/local/lib/python3.10/dist-packages (from google-auth<3,>=1.6.3->tensorboard<2.15,>=2.14->tensorflow==2.14) (5.3.2)\n",
            "Requirement already satisfied: pyasn1-modules>=0.2.1 in /usr/local/lib/python3.10/dist-packages (from google-auth<3,>=1.6.3->tensorboard<2.15,>=2.14->tensorflow==2.14) (0.3.0)\n",
            "Requirement already satisfied: rsa<5,>=3.1.4 in /usr/local/lib/python3.10/dist-packages (from google-auth<3,>=1.6.3->tensorboard<2.15,>=2.14->tensorflow==2.14) (4.9)\n",
            "Requirement already satisfied: requests-oauthlib>=0.7.0 in /usr/local/lib/python3.10/dist-packages (from google-auth-oauthlib<1.1,>=0.5->tensorboard<2.15,>=2.14->tensorflow==2.14) (1.3.1)\n",
            "Requirement already satisfied: charset-normalizer<4,>=2 in /usr/local/lib/python3.10/dist-packages (from requests<3,>=2.21.0->tensorboard<2.15,>=2.14->tensorflow==2.14) (3.3.1)\n",
            "Requirement already satisfied: idna<4,>=2.5 in /usr/local/lib/python3.10/dist-packages (from requests<3,>=2.21.0->tensorboard<2.15,>=2.14->tensorflow==2.14) (3.4)\n",
            "Requirement already satisfied: urllib3<3,>=1.21.1 in /usr/local/lib/python3.10/dist-packages (from requests<3,>=2.21.0->tensorboard<2.15,>=2.14->tensorflow==2.14) (2.0.7)\n",
            "Requirement already satisfied: certifi>=2017.4.17 in /usr/local/lib/python3.10/dist-packages (from requests<3,>=2.21.0->tensorboard<2.15,>=2.14->tensorflow==2.14) (2023.7.22)\n",
            "Requirement already satisfied: MarkupSafe>=2.1.1 in /usr/local/lib/python3.10/dist-packages (from werkzeug>=1.0.1->tensorboard<2.15,>=2.14->tensorflow==2.14) (2.1.3)\n",
            "Requirement already satisfied: pyasn1<0.6.0,>=0.4.6 in /usr/local/lib/python3.10/dist-packages (from pyasn1-modules>=0.2.1->google-auth<3,>=1.6.3->tensorboard<2.15,>=2.14->tensorflow==2.14) (0.5.0)\n",
            "Requirement already satisfied: oauthlib>=3.0.0 in /usr/local/lib/python3.10/dist-packages (from requests-oauthlib>=0.7.0->google-auth-oauthlib<1.1,>=0.5->tensorboard<2.15,>=2.14->tensorflow==2.14) (3.2.2)\n"
          ]
        }
      ]
    },
    {
      "cell_type": "code",
      "execution_count": 5,
      "metadata": {
        "id": "oUyZhW_QyPWc"
      },
      "outputs": [],
      "source": [
        "%timeit\n",
        "from transformers import pipeline\n",
        "classifier = pipeline(\"zero-shot-classification\", model=\"facebook/bart-large-mnli\")"
      ]
    },
    {
      "cell_type": "code",
      "source": [
        "  candidate_labels =  [ 'Frontend (HTML, CSS, JavaScript, React, TailwindCSS, ChakraUI, ThreeJs, LaTex)',\n",
        "  'Backend (NodeJS, Django, Express, MongoDB, MySQL, Go, REST_Framework)',\n",
        "  'Machine Learning (Numpy, Pandas, Keras, Seaborn, Matplotlib, Scikit-Learn, Tensorflow)',\n",
        "  'Computer Vision (Yolo, RCNN, Haarcascade, mediapipe, pytorch, OCR)',\n",
        "  'Natural Language Processing (Langchains, haystacks, Large Language Models (LLMs), Transformers)',\n",
        "  'Cloud Computing (Amazon Web Services (AWS), Azure, Docker, Terraforms, Kubernetes, Google Cloud Platform, Elastic, Oracle Cloud)',\n",
        "  'Blockchain (Solidity, vyper, Proof of work, Go, Rust, motoko)',\n",
        "  'Programming (C, C++, Java, Python)',\n",
        "  'Data Science (Google Looker Studio, PowerBi, Hadoop, R, MatLab, Julia, Scala)'\n",
        "  ]\n",
        "  output = classifier(cleaned_text, candidate_labels, multi_label=False)"
      ],
      "metadata": {
        "id": "VTYfAFWHyYmq"
      },
      "execution_count": 13,
      "outputs": []
    },
    {
      "cell_type": "code",
      "source": [
        "output['labels'], output['scores']"
      ],
      "metadata": {
        "colab": {
          "base_uri": "https://localhost:8080/"
        },
        "id": "DYiHMyoy1dUQ",
        "outputId": "e4befbcb-eace-4174-e093-c6d7c312bf67"
      },
      "execution_count": 14,
      "outputs": [
        {
          "output_type": "execute_result",
          "data": {
            "text/plain": [
              "(['Programming (C, C++, Java, Python)',\n",
              "  'Natural Language Processing (Langchains, haystacks, Large Language Models (LLMs), Transformers)',\n",
              "  'Machine Learning (Numpy, Pandas, Keras, Seaborn, Matplotlib, Scikit-Learn, Tensorflow)',\n",
              "  'Computer Vision (Yolo, RCNN, Haarcascade, mediapipe, pytorch)',\n",
              "  'Frontend (HTML, CSS, JavaScript, React, TailwindCSS, ChakraUI, ThreeJs, LaTex)',\n",
              "  'Backend (NodeJS, Django, Express, MongoDB, MySQL, Go, REST_Framework)',\n",
              "  'Cloud Computing (Amazon Web Services (AWS), Azure, Docker, Terraforms, Kubernetes, Google Cloud Platform, Elastic, Oracle Cloud)',\n",
              "  'Data Science (Google Looker Studio, PowerBi, Hadoop, R, MatLab, Julia, Scala)',\n",
              "  'Blockchain (Solidity, vyper, Proof of work, Go, Rust, motoko)'],\n",
              " [0.15704169869422913,\n",
              "  0.1564539223909378,\n",
              "  0.12462473660707474,\n",
              "  0.11236268281936646,\n",
              "  0.11191455274820328,\n",
              "  0.10285323858261108,\n",
              "  0.10006090253591537,\n",
              "  0.06993064284324646,\n",
              "  0.06475759297609329])"
            ]
          },
          "metadata": {},
          "execution_count": 14
        }
      ]
    }
  ],
  "metadata": {
    "kernelspec": {
      "display_name": "Python 3",
      "name": "python3"
    },
    "language_info": {
      "codemirror_mode": {
        "name": "ipython",
        "version": 3
      },
      "file_extension": ".py",
      "mimetype": "text/x-python",
      "name": "python",
      "nbconvert_exporter": "python",
      "pygments_lexer": "ipython3",
      "version": "3.10.5"
    },
    "colab": {
      "provenance": []
    },
    "accelerator": "TPU"
  },
  "nbformat": 4,
  "nbformat_minor": 0
}